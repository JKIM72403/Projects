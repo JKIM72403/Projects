{
  "nbformat": 4,
  "nbformat_minor": 0,
  "metadata": {
    "colab": {
      "provenance": [],
      "toc_visible": true,
      "include_colab_link": true
    },
    "kernelspec": {
      "name": "python3",
      "display_name": "Python 3"
    },
    "language_info": {
      "name": "python"
    }
  },
  "cells": [
    {
      "cell_type": "markdown",
      "metadata": {
        "id": "view-in-github",
        "colab_type": "text"
      },
      "source": [
        "<a href=\"https://colab.research.google.com/github/JKIM72403/Projects/blob/master/EES_2110_Introduction_to_Python.ipynb\" target=\"_parent\"><img src=\"https://colab.research.google.com/assets/colab-badge.svg\" alt=\"Open In Colab\"/></a>"
      ]
    },
    {
      "cell_type": "markdown",
      "source": [
        "# <font color=green> EES 2110 Introduction to Climate Change </font>\n",
        "\n",
        "    Python session 1:\n",
        "    Objective: Get familiar with the basic syntax of Python."
      ],
      "metadata": {
        "id": "2C1UehO7cfGI"
      }
    },
    {
      "cell_type": "code",
      "source": [
        "#connect with your google drive\n",
        "from google.colab import drive  #import the drive library\n",
        "drive.mount('/content/drive')  #mount"
      ],
      "metadata": {
        "id": "_EDx-P_WcpVu",
        "outputId": "1eab85ca-be4c-46a6-cf86-df4128d810e2",
        "colab": {
          "base_uri": "https://localhost:8080/"
        }
      },
      "execution_count": 1,
      "outputs": [
        {
          "output_type": "stream",
          "name": "stdout",
          "text": [
            "Mounted at /content/drive\n"
          ]
        }
      ]
    },
    {
      "cell_type": "markdown",
      "source": [
        "## Jonathan Kim\n",
        "\n",
        "# <font color=\"red\">  Introducing Python! and Other Prerequisites\n",
        "\n",
        "## Exercise: Click on this text cell to open it. Add your name as a subtitle above using two hashtags (`##`), then press `Shift + Enter` to recompile the cell.\n",
        "\n",
        "## First, import the needed libraries, introducing \"name spaces\":\n"
      ],
      "metadata": {
        "id": "spqfhc-ncQdH"
      }
    },
    {
      "cell_type": "markdown",
      "source": [
        "# This is a code cell. Place the cursor in it and press `Shift + Enter` to run it.\n",
        "# *Do the same for all code and markdown cells below.*\n"
      ],
      "metadata": {
        "id": "gT_0FM8CBvwC"
      }
    },
    {
      "cell_type": "code",
      "source": [
        "import numpy as np               # A library for numerical calculations\n",
        "import matplotlib.pyplot as plt  # For plotting\n",
        "import pandas as pd              # For handling data and extracting stored variables\n",
        "\n",
        "print('I just ran my first Google Colab notebook cell!')  # Print a message\n"
      ],
      "metadata": {
        "id": "bXlWQMsrcN4f",
        "outputId": "b67949a4-5de3-4654-e79d-f7f0383588b7",
        "colab": {
          "base_uri": "https://localhost:8080/"
        }
      },
      "execution_count": 2,
      "outputs": [
        {
          "output_type": "stream",
          "name": "stdout",
          "text": [
            "I just ran my first Google Colab notebook cell!\n"
          ]
        }
      ]
    },
    {
      "cell_type": "markdown",
      "source": [
        "# Section 1\n",
        "# <font color=\"red\">  String Manipulation Exercises\n",
        "Welcome to your first set of Python string exercises! Below, you'll find a series of tasks that will help you get comfortable working with strings in Python. Follow the instructions, and don't forget to print your results to check your work!"
      ],
      "metadata": {
        "id": "BBahh6VvGoWi"
      }
    },
    {
      "cell_type": "code",
      "source": [
        "# Print a message about climate change\n",
        "print(\"Climate change is one of the biggest challenges of our time!\")  # Print a message"
      ],
      "metadata": {
        "id": "lbKQ4GBIDtRD",
        "outputId": "bdb2f94b-e566-4f6c-cc20-f56a57061451",
        "colab": {
          "base_uri": "https://localhost:8080/"
        }
      },
      "execution_count": 3,
      "outputs": [
        {
          "output_type": "stream",
          "name": "stdout",
          "text": [
            "Climate change is one of the biggest challenges of our time!\n"
          ]
        }
      ]
    },
    {
      "cell_type": "markdown",
      "source": [
        "<font color='blue'>**Task**: Modify the code above to print your own message about why climate change is important to you."
      ],
      "metadata": {
        "id": "OlEuLRNoDxvb"
      }
    },
    {
      "cell_type": "code",
      "source": [
        "# print your own message about why climate change is important to you\n",
        "\n",
        "print(\"Climate change is important to me because I spent a lot of my formative years living in Indonesia. Indonesia is directly impacted with rising sea levels!\")"
      ],
      "metadata": {
        "id": "KiY5E5BhD7Kp",
        "outputId": "505f4124-be26-468f-9dd2-c94aa03ef696",
        "colab": {
          "base_uri": "https://localhost:8080/"
        }
      },
      "execution_count": 4,
      "outputs": [
        {
          "output_type": "stream",
          "name": "stdout",
          "text": [
            "Climate change is important to me because I spent a lot of my formative years living in Indonesia. Indonesia is directly impacted with rising sea levels!\n"
          ]
        }
      ]
    },
    {
      "cell_type": "markdown",
      "source": [
        "\n",
        "## <font color=\"red\">  Exercise 1: printing</font>\n",
        "\n",
        "Set a variable:\n",
        "\n",
        "myname='your name here'\n",
        "    \n",
        "print(\"my name is \",myname)\n",
        "</font>"
      ],
      "metadata": {
        "id": "ZLAHqk8caAvk"
      }
    },
    {
      "cell_type": "code",
      "source": [
        "# Example\n",
        "myname = 'Husile Bai'  # Replace with your name\n",
        "print(\"My name is\", myname)  # Print the message with the variable"
      ],
      "metadata": {
        "id": "hiuaXwGCgEjH",
        "outputId": "b2b9dbdd-a8d7-4455-ddc3-2ecc86de80e7",
        "colab": {
          "base_uri": "https://localhost:8080/"
        }
      },
      "execution_count": 5,
      "outputs": [
        {
          "output_type": "stream",
          "name": "stdout",
          "text": [
            "My name is Husile Bai\n"
          ]
        }
      ]
    },
    {
      "cell_type": "code",
      "source": [
        "# insert your code below this line; note that these two lines are a comment in a\n",
        "# code cell (they starts with #)\n",
        "\n",
        "myname = 'Jonathan Kim'\n",
        "print(\"My name is\", myname)"
      ],
      "metadata": {
        "id": "HaS8GZs5Z5oZ",
        "outputId": "e1f6bb51-ac1c-4d5b-a615-ad300eecf1b7",
        "colab": {
          "base_uri": "https://localhost:8080/"
        }
      },
      "execution_count": 6,
      "outputs": [
        {
          "output_type": "stream",
          "name": "stdout",
          "text": [
            "My name is Jonathan Kim\n"
          ]
        }
      ]
    },
    {
      "cell_type": "markdown",
      "source": [
        "### <font color=\"blue\"> A few more exercises\n",
        "1. Concatenation of Strings:\n",
        "   \n",
        "   Combine your first and last names into a single string and print it."
      ],
      "metadata": {
        "id": "fyNZzLJ48h_U"
      }
    },
    {
      "cell_type": "code",
      "source": [
        "first_name = 'Jonathan'  # Replace with your first name\n",
        "last_name = 'Kim'    # Replace with your last name\n",
        "\n",
        "full_name = first_name + \" \" + last_name  # Concatenate the strings\n",
        "print(\"My full name is\", full_name)  # Print the result\n"
      ],
      "metadata": {
        "id": "Kd_p145S8g1_",
        "outputId": "59532df9-40ff-4e08-ca67-a8fe7629f1ad",
        "colab": {
          "base_uri": "https://localhost:8080/"
        }
      },
      "execution_count": 8,
      "outputs": [
        {
          "output_type": "stream",
          "name": "stdout",
          "text": [
            "My full name is Jonathan Kim\n"
          ]
        }
      ]
    },
    {
      "cell_type": "markdown",
      "source": [
        "2. String Length:\n",
        "\n",
        "   Calculate and print the length of the string."
      ],
      "metadata": {
        "id": "Q-gLR7MJ8xU8"
      }
    },
    {
      "cell_type": "code",
      "source": [
        "my_string = \"This is just a test!\"  # Replace with your string\n",
        "\n",
        "string_length = len(my_string)  # Calculate the length of the string\n",
        "print(\"The length of the string is\", string_length)  # Print the result\n"
      ],
      "metadata": {
        "id": "aji2ogS29AmK",
        "outputId": "5986c329-58bb-457a-c83b-90a4819b3518",
        "colab": {
          "base_uri": "https://localhost:8080/"
        }
      },
      "execution_count": 10,
      "outputs": [
        {
          "output_type": "stream",
          "name": "stdout",
          "text": [
            "The length of the string is 20\n"
          ]
        }
      ]
    },
    {
      "cell_type": "markdown",
      "source": [
        "3. String Indexing:\n",
        "\n",
        "    Access and print the first and last letters of the string."
      ],
      "metadata": {
        "id": "KaOlsMrb9NTT"
      }
    },
    {
      "cell_type": "code",
      "source": [
        "my_string = \"I like Pho\"  # Replace with your string\n",
        "\n",
        "first_letter = my_string[0]  # Access the first letter\n",
        "last_letter = my_string[-1]  # Access the last letter\n",
        "\n",
        "print(\"The first letter is\", first_letter)  # Print the first letter\n",
        "print(\"The last letter is\", last_letter)  # Print the last letter\n"
      ],
      "metadata": {
        "id": "4Fg_rOLm9UYa",
        "outputId": "26c34b9a-16f6-4a15-d2e8-8de2423f1e6f",
        "colab": {
          "base_uri": "https://localhost:8080/"
        }
      },
      "execution_count": 11,
      "outputs": [
        {
          "output_type": "stream",
          "name": "stdout",
          "text": [
            "The first letter is I\n",
            "The last letter is o\n"
          ]
        }
      ]
    },
    {
      "cell_type": "markdown",
      "source": [
        "4. String Slicing:\n",
        "    \n",
        "    Extract and print specific parts of the string using slicing."
      ],
      "metadata": {
        "id": "4yL6lT2e9b0e"
      }
    },
    {
      "cell_type": "code",
      "source": [
        "my_string = \"Testing exactly what the python syntax will return\"  # Replace with your string\n",
        "\n",
        "first_word = my_string[:7]  # Extract the first word\n",
        "last_word = my_string[-6:]  # Extract the last word\n",
        "\n",
        "print(\"The first word is:\", first_word)  # Print the first word\n",
        "print(\"The last word is:\", last_word)  # Print the last word\n"
      ],
      "metadata": {
        "id": "kQmAZ5__9htd",
        "outputId": "ba6e772e-7f02-4d67-91f5-19c41be1ad19",
        "colab": {
          "base_uri": "https://localhost:8080/"
        }
      },
      "execution_count": 14,
      "outputs": [
        {
          "output_type": "stream",
          "name": "stdout",
          "text": [
            "The first word is: Testing\n",
            "The last word is: return\n"
          ]
        }
      ]
    },
    {
      "cell_type": "markdown",
      "source": [
        "5. String Replacement:\n",
        "    \n",
        "    Replace a word in the string and print the modified version."
      ],
      "metadata": {
        "id": "OVJN0Caw9x5G"
      }
    },
    {
      "cell_type": "code",
      "source": [
        "original_string = \"programming in Python is something that I have experience with\"  # Replace with your string\n",
        "\n",
        "modified_string = original_string.replace(\"programming\", \"Python\")  # Replace \"programming\" with \"Python\"\n",
        "\n",
        "print(\"Original string:\", original_string)  # Print the original string\n",
        "print(\"Modified string:\", modified_string)  # Print the modified string\n"
      ],
      "metadata": {
        "id": "88wzUAOF9268",
        "outputId": "613586ae-86ed-4f64-90b7-c83d7ca16ce3",
        "colab": {
          "base_uri": "https://localhost:8080/"
        }
      },
      "execution_count": 15,
      "outputs": [
        {
          "output_type": "stream",
          "name": "stdout",
          "text": [
            "Original string: programming in Python is something that I have experience with\n",
            "Modified string: Python in Python is something that I have experience with\n"
          ]
        }
      ]
    },
    {
      "cell_type": "markdown",
      "source": [
        "6. String Case Change:\n",
        "\n",
        "    Change the case of the string to uppercase and lowercase, then print the results."
      ],
      "metadata": {
        "id": "Ki8YqJ-L97Ww"
      }
    },
    {
      "cell_type": "code",
      "source": [
        "my_string = \"Okay This is a Test To See Case-wise\"  # Replace with your string\n",
        "\n",
        "print(\"Uppercase:\", my_string.upper())  # Convert to uppercase\n",
        "print(\"Lowercase:\", my_string.lower())  # Convert to lowercase\n"
      ],
      "metadata": {
        "id": "DLHUImge-BMS",
        "outputId": "284ab78a-272a-4e8b-d97d-011dd1c78124",
        "colab": {
          "base_uri": "https://localhost:8080/"
        }
      },
      "execution_count": 17,
      "outputs": [
        {
          "output_type": "stream",
          "name": "stdout",
          "text": [
            "Uppercase: OKAY THIS IS A TEST TO SEE CASE-WISE\n",
            "Lowercase: okay this is a test to see case-wise\n"
          ]
        }
      ]
    },
    {
      "cell_type": "markdown",
      "source": [
        "## <font color=\"red\"> Exercise 2: Variables and Basic Calculations\n",
        "\n",
        "\n",
        "    Objective: Learn how to use variables and perform basic arithmetic operations."
      ],
      "metadata": {
        "id": "R73r7rXgEvik"
      }
    },
    {
      "cell_type": "code",
      "source": [
        "# The average global temperature increase (in Celsius) since pre-industrial times\n",
        "temperature_increase = 1.47  # Replace with the actual value\n",
        "\n",
        "# Print the temperature increase\n",
        "print(\"The average global temperature has increased by\", temperature_increase, \"°C since pre-industrial times.\")\n"
      ],
      "metadata": {
        "id": "XRy4X0QmE8Xn",
        "outputId": "db093e14-788d-474a-c99a-2491e9288a4f",
        "colab": {
          "base_uri": "https://localhost:8080/"
        }
      },
      "execution_count": 18,
      "outputs": [
        {
          "output_type": "stream",
          "name": "stdout",
          "text": [
            "The average global temperature has increased by 1.47 °C since pre-industrial times.\n"
          ]
        }
      ]
    },
    {
      "cell_type": "markdown",
      "source": [
        "<font color='blue'>**Task**: Calculate the temperature increase in Fahrenheit using the formula: F = C * 9/5 + 32. Print the result."
      ],
      "metadata": {
        "id": "WBOMtWraFAFB"
      }
    },
    {
      "cell_type": "code",
      "source": [
        "# your code;\n",
        "\n",
        "temperature_increase = 1.47\n",
        "\n",
        "fahrenheit_conversion = temperature_increase * 9/5 + 32\n",
        "\n",
        "print(fahrenheit_conversion)"
      ],
      "metadata": {
        "id": "ZbC_Q39jFfp9",
        "outputId": "e90d18e6-9eae-46ce-a547-751e47ae0373",
        "colab": {
          "base_uri": "https://localhost:8080/"
        }
      },
      "execution_count": 19,
      "outputs": [
        {
          "output_type": "stream",
          "name": "stdout",
          "text": [
            "34.646\n"
          ]
        }
      ]
    },
    {
      "cell_type": "markdown",
      "source": [
        "## <font color='red'>Exercise 3: Working with Lists\n",
        "\n",
        "\n",
        "    Objective: Introduce lists and basic list operations."
      ],
      "metadata": {
        "id": "eotPbFuWFLKs"
      }
    },
    {
      "cell_type": "code",
      "source": [
        "# List of years with significant climate events\n",
        "significant_years = [1998, 2005, 2010, 2016, 2020]\n",
        "\n",
        "# Print the list of significant years\n",
        "print(\"Years with significant climate events:\", significant_years)\n"
      ],
      "metadata": {
        "id": "9G-1H91XFFVc",
        "outputId": "1c54bd19-c0a6-4534-c07a-7ec24bfa6a5e",
        "colab": {
          "base_uri": "https://localhost:8080/"
        }
      },
      "execution_count": 20,
      "outputs": [
        {
          "output_type": "stream",
          "name": "stdout",
          "text": [
            "Years with significant climate events: [1998, 2005, 2010, 2016, 2020]\n"
          ]
        }
      ]
    },
    {
      "cell_type": "markdown",
      "source": [
        "<font color='blue'>**Task**: Add the current year to the list and print the updated list."
      ],
      "metadata": {
        "id": "7GgdmQcPFYHS"
      }
    },
    {
      "cell_type": "code",
      "source": [
        "# Your code:\n",
        "# I realized that colab keeps variables, so I just added it here.\n",
        "\n",
        "significant_years.append(2025)\n",
        "\n",
        "print(\"Here are all of the significant years: \", significant_years)"
      ],
      "metadata": {
        "id": "LYbb0PRUFagI",
        "outputId": "35baa26c-851c-49f2-da22-be7e814de769",
        "colab": {
          "base_uri": "https://localhost:8080/"
        }
      },
      "execution_count": 24,
      "outputs": [
        {
          "output_type": "stream",
          "name": "stdout",
          "text": [
            "Here are all of the significant years:  [1998, 2005, 2010, 2016, 2020, 2025, 2025, 2025, 2025]\n"
          ]
        }
      ]
    },
    {
      "cell_type": "markdown",
      "source": [
        "## <font color='red'>Exercise 4: Basic Data Analysis with Lists\n",
        "\n",
        "\n",
        "    Objective: Perform simple data analysis using Python lists."
      ],
      "metadata": {
        "id": "HuiSl8y6Fnw9"
      }
    },
    {
      "cell_type": "code",
      "source": [
        "# List of average global temperatures (in °C) for five recent years\n",
        "temperatures = [14.9, 15.1, 14.8, 15.0, 15.2]\n",
        "\n",
        "# Calculate the average temperature\n",
        "average_temperature = sum(temperatures) / len(temperatures)  # Calculate the average\n",
        "\n",
        "# Print the average temperature\n",
        "print(\"The average global temperature over the last five years is\", average_temperature, \"°C.\")\n"
      ],
      "metadata": {
        "id": "d4CNsjldFt3h",
        "outputId": "b2a72e43-9e27-48b9-db82-c5cba4924c47",
        "colab": {
          "base_uri": "https://localhost:8080/"
        }
      },
      "execution_count": 25,
      "outputs": [
        {
          "output_type": "stream",
          "name": "stdout",
          "text": [
            "The average global temperature over the last five years is 15.0 °C.\n"
          ]
        }
      ]
    },
    {
      "cell_type": "markdown",
      "source": [
        "<font color='blue'>**Task**: Find the year with the highest temperature and print it."
      ],
      "metadata": {
        "id": "51JRZYu0F3n7"
      }
    },
    {
      "cell_type": "code",
      "source": [
        "# your code:\n",
        "\n",
        "\n",
        "print(\"The year with the highest temperature is the most recent year with\", max(temperatures), \"°C\")"
      ],
      "metadata": {
        "id": "vIUSEo2iF8qA",
        "outputId": "ae912236-c8da-4c39-ee81-16fd83a2e26d",
        "colab": {
          "base_uri": "https://localhost:8080/"
        }
      },
      "execution_count": 34,
      "outputs": [
        {
          "output_type": "stream",
          "name": "stdout",
          "text": [
            "The year with the highest temperature is the most recent year with 15.2 °C\n"
          ]
        }
      ]
    },
    {
      "cell_type": "markdown",
      "source": [
        "## <font color='red'>Exercise 5: Introduction to Functions\n",
        "\n",
        "\n",
        "    Objective: Learn how to define and use functions in Python."
      ],
      "metadata": {
        "id": "LbUDU9SNHi6A"
      }
    },
    {
      "cell_type": "code",
      "source": [
        "# Function to convert Celsius to Fahrenheit\n",
        "def celsius_to_fahrenheit(celsius):  # Define the function\n",
        "    return celsius * 9/5 + 32  # Convert Celsius to Fahrenheit\n",
        "\n",
        "# Test the function\n",
        "temperature_celsius = 15.0\n",
        "temperature_fahrenheit = celsius_to_fahrenheit(temperature_celsius)  # Call the function\n",
        "\n",
        "print(temperature_celsius, \"°C is equal to\", temperature_fahrenheit, \"°F.\")  # Print the result\n"
      ],
      "metadata": {
        "id": "SEMOi1ObHpA-",
        "outputId": "b1b0bb27-b66f-41f3-9ac9-cc9ee649757d",
        "colab": {
          "base_uri": "https://localhost:8080/"
        }
      },
      "execution_count": 35,
      "outputs": [
        {
          "output_type": "stream",
          "name": "stdout",
          "text": [
            "15.0 °C is equal to 59.0 °F.\n"
          ]
        }
      ]
    },
    {
      "cell_type": "markdown",
      "source": [
        "<font color='blue'>**Task**: Write a function to convert Fahrenheit to Celsius and test it with a temperature of 68°F."
      ],
      "metadata": {
        "id": "p_Z_bSu0HspI"
      }
    },
    {
      "cell_type": "code",
      "source": [
        "# your code;\n",
        "def fahrenheit_to_celsius(fahrenheit):\n",
        "  return (fahrenheit - 32)/(9/5)\n",
        "\n",
        "# Test the function\n",
        "temperature_fahrenheit = 15.0\n",
        "temperature_celsius = fahrenheit_to_celsius(temperature_fahrenheit)  # Call the function\n",
        "\n",
        "print(temperature_fahrenheit, \"°F is equal to\", temperature_celsius, \"°C.\")  # Print the result\n"
      ],
      "metadata": {
        "id": "ISNv0RW5H-qR",
        "outputId": "186f1c61-4e1c-4a8d-e8d4-698578eeb516",
        "colab": {
          "base_uri": "https://localhost:8080/"
        }
      },
      "execution_count": 37,
      "outputs": [
        {
          "output_type": "stream",
          "name": "stdout",
          "text": [
            "15.0 °F is equal to -9.444444444444445 °C.\n"
          ]
        }
      ]
    },
    {
      "cell_type": "markdown",
      "source": [
        "## <font color='red'>Exercise 6: Working with Simple Climate Data\n",
        "\n",
        "\n",
        "    Objective: Introduce the basics of handling climate-related data using Python lists."
      ],
      "metadata": {
        "id": "3GUTLdLEIATm"
      }
    },
    {
      "cell_type": "code",
      "source": [
        "# List of CO2 concentrations (in ppm) for recent years\n",
        "co2_concentrations = [400, 405, 410, 415, 420]\n",
        "\n",
        "# Calculate the increase in CO2 concentration over the period\n",
        "co2_increase = co2_concentrations[-1] - co2_concentrations[0]  # Calculate the difference\n",
        "\n",
        "# Print the increase in CO2 concentration\n",
        "print(\"CO2 concentration has increased by\", co2_increase, \"ppm over the period.\")  # Print the result\n"
      ],
      "metadata": {
        "id": "tFg_ffnSIJvy",
        "outputId": "72937625-f45e-413f-92de-752950a0e0b3",
        "colab": {
          "base_uri": "https://localhost:8080/"
        }
      },
      "execution_count": 38,
      "outputs": [
        {
          "output_type": "stream",
          "name": "stdout",
          "text": [
            "CO2 concentration has increased by 20 ppm over the period.\n"
          ]
        }
      ]
    },
    {
      "cell_type": "markdown",
      "source": [
        "<font color='blue'>**Task**: Calculate and print the average annual increase in CO2 concentration."
      ],
      "metadata": {
        "id": "bOetxtEIIMNL"
      }
    },
    {
      "cell_type": "code",
      "source": [
        "# your code:\n",
        "\n",
        "XX"
      ],
      "metadata": {
        "id": "6S1OTqMbIRfS"
      },
      "execution_count": null,
      "outputs": []
    },
    {
      "cell_type": "markdown",
      "source": [
        "## <font color='red'>Exercise 7: Plotting Simple Data (Introduction to Matplotlib)\n",
        "\n",
        "\n",
        "    Objective: Introduce basic plotting to visualize data."
      ],
      "metadata": {
        "id": "ZjQ2JdnPIZRs"
      }
    },
    {
      "cell_type": "code",
      "source": [
        "import matplotlib.pyplot as plt  # Import the Matplotlib library\n",
        "\n",
        "# Years corresponding to the CO2 concentrations\n",
        "years = [2016, 2017, 2018, 2019, 2020]  # Replace with your years\n",
        "\n",
        "# CO2 concentrations (ppm)\n",
        "co2_concentrations = [400, 405, 410, 415, 420]  # Replace with your data\n",
        "\n",
        "# Plot CO2 concentration over time\n",
        "plt.plot(years, co2_concentrations, marker='o')  # Create a line plot with markers\n",
        "plt.xlabel('Year')  # Label the x-axis\n",
        "plt.ylabel('CO2 Concentration (ppm)')  # Label the y-axis\n",
        "plt.title('CO2 Concentration Over Time')  # Add a title\n",
        "plt.grid(True)  # Add a grid for better visualization\n",
        "plt.show()  # Display the plot\n"
      ],
      "metadata": {
        "id": "lRl4tr7eIYLt"
      },
      "execution_count": null,
      "outputs": []
    },
    {
      "cell_type": "markdown",
      "source": [
        "<font color='blue'>**Task**: Modify the plot to include the years up to 2023 and add hypothetical CO2 concentrations for these years."
      ],
      "metadata": {
        "id": "GqU4qLFbIqFJ"
      }
    },
    {
      "cell_type": "code",
      "source": [
        "# your code:\n",
        "\n",
        "XX"
      ],
      "metadata": {
        "id": "jGi81jbLIvfK"
      },
      "execution_count": null,
      "outputs": []
    },
    {
      "cell_type": "markdown",
      "source": [
        "## <font color='red'>Exercise 8: Introduction to Loops\n",
        "    Objective: Learn how to use loops to automate repetitive tasks."
      ],
      "metadata": {
        "id": "KhJ7UFp_JBte"
      }
    },
    {
      "cell_type": "code",
      "source": [
        "# Print a message for each year in the significant_years list\n",
        "for year in significant_years:\n",
        "    print(\"In\", year, \"a significant climate event occurred.\")\n"
      ],
      "metadata": {
        "id": "jCsEPp1LJK4a"
      },
      "execution_count": null,
      "outputs": []
    },
    {
      "cell_type": "markdown",
      "source": [
        "<font color='blue'>**Task**: Modify the loop to print a message only for years after 2000."
      ],
      "metadata": {
        "id": "vht3oYMjJNA0"
      }
    },
    {
      "cell_type": "code",
      "source": [
        "# your code:\n",
        "\n",
        "XX"
      ],
      "metadata": {
        "id": "nuNdgMuZJSbg"
      },
      "execution_count": null,
      "outputs": []
    },
    {
      "cell_type": "markdown",
      "source": [
        "## <font color='red'>Exercise 9: Simple Conditionals\n",
        "    Objective: Introduce basic conditional statements."
      ],
      "metadata": {
        "id": "-1UWVTmfJSvs"
      }
    },
    {
      "cell_type": "code",
      "source": [
        "# Check if the temperature increase is above 1.5°C\n",
        "if temperature_increase > 1.5:  # Check the condition\n",
        "    print(\"The temperature increase is above the 1.5°C threshold!\")\n",
        "else:\n",
        "    print(\"The temperature increase is below the 1.5°C threshold.\")\n"
      ],
      "metadata": {
        "id": "I54LvqXiJW1Z"
      },
      "execution_count": null,
      "outputs": []
    },
    {
      "cell_type": "markdown",
      "source": [
        "<font color='blue'>**Task**: Modify the code to print a different message if the temperature increase is exactly 1.5°C."
      ],
      "metadata": {
        "id": "lgwV4TuQJZzD"
      }
    },
    {
      "cell_type": "code",
      "source": [
        "# your code:\n",
        "\n",
        "XX"
      ],
      "metadata": {
        "id": "UekEPxXCJZL5"
      },
      "execution_count": null,
      "outputs": []
    },
    {
      "cell_type": "markdown",
      "source": [
        "## <font color='red'>Exercise 10: Exploring Simple Climate Data with Pandas\n",
        "    Objective: Introduce basic data handling using the Pandas library."
      ],
      "metadata": {
        "id": "kUtZXW0vJeUM"
      }
    },
    {
      "cell_type": "code",
      "source": [
        "import pandas as pd\n",
        "\n",
        "# Create a simple DataFrame with years and CO2 concentrations\n",
        "data = {'Year': years, 'CO2 Concentration (ppm)': co2_concentrations}  # Create a dictionary\n",
        "df = pd.DataFrame(data)  # Create a DataFrame from the dictionary\n",
        "\n",
        "# Print the DataFrame\n",
        "print(df)\n"
      ],
      "metadata": {
        "id": "nQhnvs2wJkTm"
      },
      "execution_count": null,
      "outputs": []
    },
    {
      "cell_type": "markdown",
      "source": [
        "<font color='blue'>Task: Add a column for the global average temperature for each year and print the updated DataFrame."
      ],
      "metadata": {
        "id": "F7o7AqUwJo-P"
      }
    },
    {
      "cell_type": "code",
      "source": [
        "# your code:\n",
        "\n",
        "XX"
      ],
      "metadata": {
        "id": "8oNcYJtKJsD2"
      },
      "execution_count": null,
      "outputs": []
    },
    {
      "cell_type": "markdown",
      "source": [
        "## <font color=\"red\"> Exercise 11: Creating a Markdown Cell with an Equation\n",
        "\n",
        "1. **Add a new text cell below this point** by clicking on the \"+ Text\" button at the top of the notebook or by hovering below this cell and selecting \"+ Text\" when it appears.\n",
        "\n",
        "2. **Insert a title using hashtag(s)** (e.g., `## Equation Example`).\n",
        "\n",
        "3. **Insert an equation** using LaTeX syntax, for example: `$$E=mc^2$$`.\n",
        "\n",
        "  $$E=mc^2$$\n",
        "\n",
        "4. **Change the color of the equation to blue** and **everything else to green** using HTML tags:\n",
        "\n",
        "   ```html\n",
        "   <font color=\"green\">## Equation Example</font>\n",
        "\n",
        "   <font color=\"blue\">$$E=mc^2$$</font>\n",
        "\n",
        "\n",
        "\n",
        "---\n",
        "\n",
        "```markdown\n",
        "XX insert new markdown cell below this point.\n",
        "\n"
      ],
      "metadata": {
        "id": "2htD_jzQaM1Q"
      }
    },
    {
      "cell_type": "markdown",
      "source": [
        "## <font color=\"red\"> Practice Common Mathematical Equations\n",
        "\n",
        "Here are some common equations formatted using LaTeX:\n",
        "\n",
        "1. **Pythagorean Theorem:**\n",
        "\n",
        "   \n",
        "\n",
        "2. **Area of a Circle:**\n",
        "\n",
        "\n",
        "\n",
        "3. **Newton's Second Law:**\n",
        "\n",
        "\n",
        "\n",
        "\n",
        "  \n"
      ],
      "metadata": {
        "id": "LLzpuI3r_qOO"
      }
    },
    {
      "cell_type": "markdown",
      "source": [
        "## <font color=\"red\"> Basic Equations for Climate Change\n",
        "\n",
        "Here are some fundamental equations that are relevant to understanding climate change:\n",
        "\n",
        "1. **Stefan-Boltzmann Law** (relates the energy radiated by a black body to its temperature):\n",
        "   $$E = \\sigma T^4$$\n",
        "   where:\n",
        "   - \\( E \\) is the radiated energy per unit area,\n",
        "   - \\( \\sigma \\) is the Stefan-Boltzmann constant,\n",
        "   - \\( T \\) is the absolute temperature of the black body.\n",
        "\n",
        "2. **Energy Balance Equation** (simplified):\n",
        "   $$ \\text{Incoming Solar Radiation} = \\text{Outgoing Terrestrial Radiation} $$\n",
        "   or\n",
        "   $$ \\frac{S(1 - \\alpha)}{4} = \\sigma T^4 $$\n",
        "   where:\n",
        "   - \\( S \\) is the solar constant,\n",
        "   - \\( \\alpha \\) is the Earth's albedo,\n",
        "   - \\( \\sigma \\) is the Stefan-Boltzmann constant,\n",
        "   - \\( T \\) is the effective temperature of Earth.\n",
        "\n",
        "\n",
        "These equations provide a foundation for understanding the physical processes that drive Earth's climate system.\n",
        "\n"
      ],
      "metadata": {
        "id": "lHtoID85AtGb"
      }
    }
  ]
}